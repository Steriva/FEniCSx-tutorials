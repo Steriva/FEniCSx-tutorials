{
 "cells": [
  {
   "cell_type": "markdown",
   "metadata": {},
   "source": [
    "# Laminar Flow over cylinder (2D)\n",
    "This notebook implements an unsteady incompressible Navier-Stokes solver for the flow over a cylinder (the problem is based on the [tutorial of FEniCSx](https://jorgensd.github.io/dolfinx-tutorial/chapter2/ns_code2.html), that is the DFG 2D benchmark).\n",
    "\n",
    "The problem is strong form reads:\n",
    "\\begin{equation}\n",
    "\\left\\{\n",
    "\\begin{array}{ll}\n",
    "    \\nabla \\cdot \\mathbf{u} = 0& in\\;\\Omega\\\\\n",
    "    \\displaystyle \\frac{\\partial \\mathbf{u}}{\\partial t}+\\left(\\mathbf{u}\\cdot \\nabla\\right)\\mathbf{u}= \\nu\\Delta \\mathbf{u}-\\nabla p & in\\;\\Omega\\\\ & \\\\\n",
    "    \\left. \\mathbf{u}\\right|_{t=0}=\\mathbf{0} & in\\;\\Omega\\\\ & \\\\\n",
    "    \\mathbf{u} = \\frac{4U(t)\\,(y-0.2)\\cdot(0.21-y)}{0.41^2}\\mathbf{i} & on\\;\\Gamma_{in}\\\\\n",
    "    \\mathbf{u} = \\mathbf{0} & on\\;\\Gamma_w\\\\\n",
    "    \\left(\\nu\\nabla \\mathbf{u}-p\\mathbb{I}\\right)\\cdot \\mathbf{n}=\\mathbf{g} & on \\;\\Gamma_{out}\n",
    "\\end{array}\n",
    "\\right.\n",
    "\\end{equation}\n",
    "in which $\\nu = 1e-4$, $\\mathbf{g} = \\mathbf{0}$ and $U(t) = 1.5 \\sin\\left(\\frac{\\pi t}{8}\\right)$."
   ]
  },
  {
   "cell_type": "code",
   "execution_count": 1,
   "metadata": {},
   "outputs": [
    {
     "name": "stdout",
     "output_type": "stream",
     "text": [
      "Info    : Reading 'flowCylinder.msh'...\n",
      "Info    : 12 entities\n",
      "Info    : 3726 nodes\n",
      "Info    : 7452 elements\n",
      "Info    : Done reading 'flowCylinder.msh'\n"
     ]
    }
   ],
   "source": [
    "import tqdm\n",
    "import numpy as np\n",
    "\n",
    "# Mesh generation\n",
    "import dolfinx\n",
    "from mpi4py import MPI\n",
    "from dolfinx import mesh\n",
    "from dolfinx.io import gmshio, XDMFFile\n",
    "\n",
    "gdim = 2\n",
    "\n",
    "domain, ct, ft = gmshio.read_from_msh(\"flowCylinder.msh\", MPI.COMM_WORLD, gdim = gdim)\n",
    "\n",
    "fdim = gdim - 1\n",
    "\n",
    "inl_marker  = 10\n",
    "wall_marker = 20\n",
    "sym_marker  = 30\n",
    "out_marker  = 40\n",
    "\n",
    "# Define the functional space\n",
    "from dolfinx import fem\n",
    "from dolfinx.fem import Function, FunctionSpace, dirichletbc, locate_dofs_topological, form\n",
    "import ufl\n",
    "from ufl import grad, div, nabla_grad, dx, inner, dot, ds\n",
    "from petsc4py import PETSc\n",
    "\n",
    "\n",
    "P2 = ufl.VectorElement(\"Lagrange\", domain.ufl_cell(), 2)\n",
    "V = FunctionSpace(domain, P2)\n",
    "P1 = ufl.FiniteElement(\"Lagrange\", domain.ufl_cell(), 1)\n",
    "Q = FunctionSpace(domain, P1)\n",
    "\n",
    "u = ufl.TrialFunction(V)\n",
    "v = ufl.TestFunction(V)\n",
    "uOld = Function(V)\n",
    "uTilde = Function(V)\n",
    "u_sol = Function(V)\n",
    "\n",
    "p = ufl.TrialFunction(Q)\n",
    "q = ufl.TestFunction(Q)\n",
    "pOld = Function(Q)\n",
    "deltaP = Function(Q)\n",
    "p_sol = Function(Q)\n",
    "\n",
    "U = lambda t: 1.5 * np.sin(np.pi * t / 8.)\n",
    "nu = fem.Constant(domain, PETSc.ScalarType(1e-3))\n",
    "\n",
    "T = 8\n",
    "dt = 2e-3\n",
    "t = 0\n",
    "\n",
    "# Define the BC\n",
    "\n",
    "## Inlet: parabolic velocity\n",
    "class InletVelocity():\n",
    "    def __init__(self, U, t):\n",
    "        self.U = U\n",
    "        self.t = t\n",
    "\n",
    "    def __call__(self, x):\n",
    "        values = np.zeros((gdim, x.shape[1]),dtype=PETSc.ScalarType)\n",
    "        values[0] = 4 * self.U(self.t) * (x[1]+0.2) * (0.21 - x[1]) / 0.41**2\n",
    "        return values\n",
    "\n",
    "inlet_velocity = InletVelocity(U, t)\n",
    "in_velocity = Function(V)\n",
    "in_velocity.interpolate(inlet_velocity)\n",
    "bc_in = dirichletbc(in_velocity, locate_dofs_topological(V, fdim, ft.find(inl_marker)))\n",
    "\n",
    "## Walls: no slip\n",
    "u_nonslip = np.array((0,) * domain.geometry.dim, dtype=PETSc.ScalarType)\n",
    "bc_w = dirichletbc(u_nonslip, locate_dofs_topological(V, fdim, ft.find(wall_marker)), V)\n",
    "\n",
    "## Symm: free slip\n",
    "bc_sym = dirichletbc(u_nonslip, locate_dofs_topological(V, fdim, ft.find(sym_marker)), V)\n",
    "\n",
    "bc_u = [bc_w, bc_sym, bc_in]\n",
    "\n",
    "## Out\n",
    "bc_p = [dirichletbc(PETSc.ScalarType(0), locate_dofs_topological(Q, fdim, ft.find(out_marker)), Q)]"
   ]
  },
  {
   "cell_type": "markdown",
   "metadata": {},
   "source": [
    "Now, we can define the variational formulations for the time advancement loop. Let's start with the projection step\n",
    "\\begin{equation}\n",
    "\\left\\{\n",
    "\\begin{array}{ll}\n",
    "    \\displaystyle \\frac{\\tilde{\\mathbf{u}}-\\mathbf{n}^n}{\\Delta t}+\\left(\\mathbf{u}^n\\cdot \\nabla\\right)\\tilde{\\mathbf{u}}= \\frac{1}{Re}\\Delta \\tilde{\\mathbf{u}}-\\nabla p^n & in\\;\\Omega\\\\ & \\\\\n",
    "    \\tilde{\\mathbf{u}} = (1-y^2)\\mathbf{i} & on\\;\\Gamma_{in}\\\\\n",
    "    \\tilde{\\mathbf{u}} = \\mathbf{0} & on\\;\\Gamma_w\\\\\n",
    "    \\frac{1}{Re}\\nabla\\tilde{\\mathbf{u}}\\cdot \\mathbf{n}=\\mathbf{g} & on \\;\\Gamma_{out}\n",
    "\\end{array}\n",
    "\\right.\n",
    "\\end{equation}\n",
    "whose weak formulation reads\n",
    "\\begin{equation}\n",
    "\\int_\\Omega \\tilde{\\mathbf{u}}\\cdot \\mathbf{v}\\,d\\Omega + \\Delta t \\int_\\Omega \\left(\\mathbf{u}^n\\cdot \\nabla\\right)\\tilde{\\mathbf{u}}\\cdot \\mathbf{v}\\,d\\Omega + \\frac{ \\Delta t}{Re} \\int_\\Omega\\nabla \\tilde{\\mathbf{u}}\\cdot \\nabla \\mathbf{v}\\,d\\Omega =\n",
    "\\int_\\Omega {\\mathbf{u}}^n\\cdot \\mathbf{v}\\,d\\Omega + \\Delta t \\int_{\\Gamma_{out}}g\\mathbf{n}\\cdot \\mathbf{v}\\,d\\sigma -  \\Delta t\\int_\\Omega \\nabla p^n\\cdot \\mathbf{v}\\,d\\Omega \n",
    "\\end{equation}"
   ]
  },
  {
   "cell_type": "code",
   "execution_count": 2,
   "metadata": {},
   "outputs": [],
   "source": [
    "NS_a = form( (inner(u,v) + \n",
    "              dt * inner(dot(uOld, nabla_grad(u)), v) + \n",
    "              dt * inner(nu * grad(u), grad(v))) * dx )\n",
    "NS_L = form( (inner(uOld - dt * grad(pOld), v)) * dx)\n",
    "\n",
    "NS_A = fem.petsc.create_matrix(NS_a)\n",
    "NS_b = fem.petsc.create_vector(NS_L)\n",
    "\n",
    "solver1 = PETSc.KSP().create(domain.comm)\n",
    "solver1.setOperators(NS_A)\n",
    "solver1.setType(PETSc.KSP.Type.BCGS)\n",
    "solver1.getPC().setType(PETSc.PC.Type.JACOBI)"
   ]
  },
  {
   "cell_type": "markdown",
   "metadata": {},
   "source": [
    "The projection step consists in a Poisson problem, i.e.\n",
    "\\begin{equation}\n",
    "\\left\\{\n",
    "    \\begin{array}{ll}\n",
    "        -\\Delta \\delta p=-\\frac{1}{\\Delta t}\\nabla\\cdot \\tilde{\\mathbf{u}} & in\\;\\Omega\\\\\n",
    "        \\delta p = 0 & on\\;\\Gamma_{out}\\\\\n",
    "        \\nabla\\delta p\\cdot \\mathbf{n}=0& on\\;\\partial\\Omega\\setminus \\Gamma_{out}\n",
    "    \\end{array}\n",
    "\\right.\n",
    "\\end{equation}\n",
    "whose weak formulation reads\n",
    "\\begin{equation}\n",
    "\\int_\\Omega \\nabla \\delta p\\cdot \\nabla q\\,d\\Omega = -\\frac{1}{\\Delta t}\\int_\\Omega q\\nabla \\cdot \\tilde{\\mathbf{u}}\\,d\\Omega\n",
    "\\qquad \\forall q\\in\\mathcal{Q}\n",
    "\\end{equation}"
   ]
  },
  {
   "cell_type": "code",
   "execution_count": 3,
   "metadata": {},
   "outputs": [],
   "source": [
    "Poisson_a = form(inner(grad(p), grad(q)) * dx)\n",
    "Poisson_L = form(- 1. / dt * inner(div(uTilde), q) * dx)\n",
    "\n",
    "Poisson_A = fem.petsc.assemble_matrix(Poisson_a, bcs = bc_p)\n",
    "Poisson_A.assemble()\n",
    "Poisson_b = fem.petsc.create_vector(Poisson_L)\n",
    "\n",
    "solver2 = PETSc.KSP().create(domain.comm)\n",
    "solver2.setOperators(Poisson_A)\n",
    "solver2.setType(PETSc.KSP.Type.CG)\n",
    "solver2.getPC().setType(PETSc.PC.Type.SOR)"
   ]
  },
  {
   "cell_type": "markdown",
   "metadata": {},
   "source": [
    "Then, a third auxiliary variational problem is defined to update the velocity\n",
    "\\begin{equation}\n",
    "\\int_\\Omega \\mathbf{u}^{n+1} \\cdot \\mathbf{v} \\,d\\Omega= \\int_\\Omega\\left( \\tilde{\\mathbf{u}}-\\Delta t\\nabla\\delta p\\right) \\cdot \\mathbf{v} \\,d\\Omega\n",
    "\\end{equation}"
   ]
  },
  {
   "cell_type": "code",
   "execution_count": 4,
   "metadata": {},
   "outputs": [],
   "source": [
    "update_a = form(inner(u, v) * dx)\n",
    "update_L = form(inner(uTilde - dt * grad(deltaP), v) * dx)\n",
    "\n",
    "update_A = fem.petsc.assemble_matrix(update_a)\n",
    "update_A.assemble()\n",
    "update_b = fem.petsc.create_vector(update_L)\n",
    "\n",
    "solver3 = PETSc.KSP().create(domain.comm)\n",
    "solver3.setOperators(update_A)\n",
    "solver3.setType(PETSc.KSP.Type.CG)\n",
    "solver3.getPC().setType(PETSc.PC.Type.SOR)"
   ]
  },
  {
   "cell_type": "markdown",
   "metadata": {},
   "source": [
    "Finally, the time loop can be implemented."
   ]
  },
  {
   "cell_type": "code",
   "execution_count": 5,
   "metadata": {},
   "outputs": [
    {
     "name": "stderr",
     "output_type": "stream",
     "text": [
      "Solving PDE: 100%|██████████| 4000/4000 [07:54<00:00, 10.03it/s]"
     ]
    },
    {
     "name": "stderr",
     "output_type": "stream",
     "text": [
      "Solving PDE: 100%|██████████| 4000/4000 [08:10<00:00, 10.03it/s]"
     ]
    }
   ],
   "source": [
    "u_xdmf = XDMFFile(domain.comm, \"U.xdmf\", \"w\")\n",
    "u_xdmf.write_mesh(domain)\n",
    "u_xdmf.write_function(u_sol, t)\n",
    "\n",
    "p_xdmf = XDMFFile(domain.comm, \"p.xdmf\", \"w\")\n",
    "p_xdmf.write_mesh(domain)\n",
    "p_xdmf.write_function(p_sol, t)\n",
    "\n",
    "kk = 1\n",
    "\n",
    "num_steps = int(T/dt)\n",
    "progress = tqdm.tqdm(desc=\"Solving PDE\", total=num_steps)\n",
    "for ii in range(num_steps):\n",
    "    progress.update(1)\n",
    "    t += dt\n",
    "    inlet_velocity.t = t\n",
    "    in_velocity.interpolate(inlet_velocity)\n",
    "\n",
    "    # Predictor\n",
    "    NS_A.zeroEntries()\n",
    "    fem.petsc.assemble_matrix(NS_A, NS_a, bcs = bc_u)\n",
    "    NS_A.assemble()\n",
    "\n",
    "    with NS_b.localForm() as loc:\n",
    "        loc.set(0)\n",
    "    fem.petsc.assemble_vector(NS_b, NS_L)\n",
    "    fem.petsc.apply_lifting(NS_b, [NS_a], [bc_u])\n",
    "    NS_b.ghostUpdate(addv=PETSc.InsertMode.ADD_VALUES, mode=PETSc.ScatterMode.REVERSE)\n",
    "    fem.petsc.set_bc(NS_b, bc_u)\n",
    "\n",
    "    solver1.solve(NS_b, uTilde.vector)\n",
    "    uTilde.x.scatter_forward()\n",
    "\n",
    "    # Projection\n",
    "    with Poisson_b.localForm() as loc:\n",
    "        loc.set(0)\n",
    "    fem.petsc.assemble_vector(Poisson_b, Poisson_L)\n",
    "    fem.petsc.apply_lifting(Poisson_b, [Poisson_a], [bc_p])\n",
    "    Poisson_b.ghostUpdate(addv=PETSc.InsertMode.ADD_VALUES, mode=PETSc.ScatterMode.REVERSE)\n",
    "    fem.petsc.set_bc(Poisson_b, bc_p)\n",
    "\n",
    "    solver2.solve(Poisson_b, deltaP.vector)\n",
    "    deltaP.x.scatter_forward()\n",
    "\n",
    "    # Correction\n",
    "    with update_b.localForm() as loc:\n",
    "        loc.set(0)\n",
    "    fem.petsc.assemble_vector(update_b, update_L)\n",
    "    update_b.ghostUpdate(addv=PETSc.InsertMode.ADD_VALUES, mode=PETSc.ScatterMode.REVERSE)\n",
    "    solver3.solve(update_b, u_sol.vector)\n",
    "    u_sol.x.scatter_forward()\n",
    "\n",
    "    p_sol.vector.axpy(1, deltaP.vector)\n",
    "    p_sol.x.scatter_forward()\n",
    "\n",
    "    # Save solution\n",
    "    if (np.isclose(t, 10 * kk * dt)):\n",
    "        u_xdmf.write_function(u_sol, t)\n",
    "        p_xdmf.write_function(p_sol, t)\n",
    "        kk += 1\n",
    "\n",
    "    # Update old\n",
    "    with u_sol.vector.localForm() as loc_, uOld.vector.localForm() as loc_n:\n",
    "        loc_.copy(loc_n)\n",
    "    with p_sol.vector.localForm() as loc_, pOld.vector.localForm() as loc_n:\n",
    "        loc_.copy(loc_n)\n",
    "        \n",
    "u_xdmf.close()\n",
    "p_xdmf.close()"
   ]
  }
 ],
 "metadata": {
  "kernelspec": {
   "display_name": "Python 3 (ipykernel)",
   "language": "python",
   "name": "python3"
  },
  "language_info": {
   "codemirror_mode": {
    "name": "ipython",
    "version": 3
   },
   "file_extension": ".py",
   "mimetype": "text/x-python",
   "name": "python",
   "nbconvert_exporter": "python",
   "pygments_lexer": "ipython3",
   "version": "3.10.6"
  },
  "vscode": {
   "interpreter": {
    "hash": "e5b3af111de828d84cfea01c8e4cc990d7262e947155f31e208c22ad6b78199b"
   }
  }
 },
 "nbformat": 4,
 "nbformat_minor": 2
}
