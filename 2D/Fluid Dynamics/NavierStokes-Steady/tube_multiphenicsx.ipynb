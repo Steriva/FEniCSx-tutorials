{
 "cells": [
  {
   "cell_type": "markdown",
   "metadata": {},
   "source": [
    "# Navier-Stokes problem\n",
    "\n",
    "In this tutorial we compare the formulation of a Navier-Stokes problem using standard assembly with mixed function spaces.\n",
    "This notebook is modified starting from [multiphenicsx tutorials](https://github.com/multiphenics/multiphenicsx/tree/main/tutorials)."
   ]
  },
  {
   "cell_type": "code",
   "execution_count": 1,
   "metadata": {},
   "outputs": [],
   "source": [
    "import typing"
   ]
  },
  {
   "cell_type": "code",
   "execution_count": 2,
   "metadata": {},
   "outputs": [],
   "source": [
    "import dolfinx.fem\n",
    "import dolfinx.io\n",
    "import gmsh\n",
    "import mpi4py.MPI\n",
    "import numpy as np\n",
    "import numpy.typing\n",
    "import petsc4py.PETSc\n",
    "import ufl"
   ]
  },
  {
   "cell_type": "markdown",
   "metadata": {},
   "source": [
    "### Constitutive parameters"
   ]
  },
  {
   "cell_type": "code",
   "execution_count": 3,
   "metadata": {},
   "outputs": [],
   "source": [
    "nu = 0.0004\n",
    "\n",
    "\n",
    "def u_in_eval(x: np.typing.NDArray[np.float64]) -> np.typing.NDArray[  # type: ignore[no-any-unimported]\n",
    "        petsc4py.PETSc.ScalarType]:\n",
    "    \"\"\"Return the flat velocity profile at the inlet.\"\"\"\n",
    "    values = np.zeros((2, x.shape[1]))\n",
    "    values[0, :] = 1.0\n",
    "    return values\n",
    "\n",
    "\n",
    "def u_wall_eval(x: np.typing.NDArray[np.float64]) -> np.typing.NDArray[  # type: ignore[no-any-unimported]\n",
    "        petsc4py.PETSc.ScalarType]:\n",
    "    \"\"\"Return the zero velocity at the wall.\"\"\"\n",
    "    return np.zeros((2, x.shape[1]))"
   ]
  },
  {
   "cell_type": "markdown",
   "metadata": {},
   "source": [
    "### Geometrical parameters"
   ]
  },
  {
   "cell_type": "code",
   "execution_count": 4,
   "metadata": {},
   "outputs": [],
   "source": [
    "pre_step_length = 10.\n",
    "pre_step_height = 3.\n",
    "after_step_height = 4.\n",
    "lcar = 0.05"
   ]
  },
  {
   "cell_type": "markdown",
   "metadata": {},
   "source": [
    "### Mesh"
   ]
  },
  {
   "cell_type": "code",
   "execution_count": 5,
   "metadata": {},
   "outputs": [],
   "source": [
    "gmsh.initialize()\n",
    "gmsh.model.add(\"mesh\")"
   ]
  },
  {
   "cell_type": "code",
   "execution_count": 6,
   "metadata": {},
   "outputs": [],
   "source": [
    "p0 = gmsh.model.geo.addPoint(0.0, after_step_height - pre_step_height, 0.0, lcar)\n",
    "p1 = gmsh.model.geo.addPoint(pre_step_length, after_step_height - pre_step_height, 0.0, lcar)\n",
    "p2 = gmsh.model.geo.addPoint(pre_step_length, after_step_height, 0.0, lcar)\n",
    "p5 = gmsh.model.geo.addPoint(0.0, after_step_height, 0.0, lcar)\n",
    "l0 = gmsh.model.geo.addLine(p0, p1)\n",
    "l1 = gmsh.model.geo.addLine(p1, p2)\n",
    "l2 = gmsh.model.geo.addLine(p2, p5)\n",
    "l5 = gmsh.model.geo.addLine(p5, p0)\n",
    "line_loop = gmsh.model.geo.addCurveLoop([l0, l1, l2, l5])\n",
    "domain = gmsh.model.geo.addPlaneSurface([line_loop])"
   ]
  },
  {
   "cell_type": "code",
   "execution_count": 7,
   "metadata": {},
   "outputs": [
    {
     "name": "stdout",
     "output_type": "stream",
     "text": [
      "Info    : Meshing 1D...\n",
      "Info    : [  0%] Meshing curve 1 (Line)\n",
      "Info    : [ 30%] Meshing curve 2 (Line)\n",
      "Info    : [ 50%] Meshing curve 3 (Line)\n",
      "Info    : [ 80%] Meshing curve 4 (Line)\n",
      "Info    : Done meshing 1D (Wall 0.000863155s, CPU 0.001213s)\n",
      "Info    : Meshing 2D...\n",
      "Info    : Meshing surface 1 (Plane, Frontal-Delaunay)\n",
      "Info    : Done meshing 2D (Wall 0.634122s, CPU 0.59993s)\n",
      "Info    : 14189 nodes 28380 elements\n"
     ]
    }
   ],
   "source": [
    "gmsh.model.geo.synchronize()\n",
    "gmsh.model.addPhysicalGroup(1, [l5], 1)\n",
    "gmsh.model.addPhysicalGroup(1, [l0, l2], 2)\n",
    "gmsh.model.addPhysicalGroup(2, [domain], 0)\n",
    "gmsh.model.mesh.generate(2)"
   ]
  },
  {
   "cell_type": "code",
   "execution_count": 8,
   "metadata": {},
   "outputs": [
    {
     "name": "stdout",
     "output_type": "stream",
     "text": [
      "Info    : Writing 'mesh.vtk'...\n",
      "Info    : Done writing 'mesh.vtk'\n"
     ]
    }
   ],
   "source": [
    "gmsh.write(\"mesh.vtk\")"
   ]
  },
  {
   "cell_type": "code",
   "execution_count": 9,
   "metadata": {},
   "outputs": [],
   "source": [
    "from dolfinx.io import gmshio"
   ]
  },
  {
   "cell_type": "code",
   "execution_count": 10,
   "metadata": {},
   "outputs": [],
   "source": [
    "mesh, subdomains, boundaries = gmshio.model_to_mesh(\n",
    "    gmsh.model, comm=mpi4py.MPI.COMM_WORLD, rank=0, gdim=2)\n",
    "gmsh.finalize()"
   ]
  },
  {
   "cell_type": "code",
   "execution_count": 11,
   "metadata": {},
   "outputs": [],
   "source": [
    "boundaries_1 = boundaries.indices[boundaries.values == 1]\n",
    "boundaries_2 = boundaries.indices[boundaries.values == 2]"
   ]
  },
  {
   "cell_type": "markdown",
   "metadata": {},
   "source": [
    "### Function spaces"
   ]
  },
  {
   "cell_type": "code",
   "execution_count": 12,
   "metadata": {},
   "outputs": [],
   "source": [
    "V_element = ufl.VectorElement(\"Lagrange\", mesh.ufl_cell(), 2)\n",
    "Q_element = ufl.FiniteElement(\"Lagrange\", mesh.ufl_cell(), 1)"
   ]
  },
  {
   "cell_type": "markdown",
   "metadata": {},
   "source": [
    "### Standard FEniCSx formulation using a mixed function space"
   ]
  },
  {
   "cell_type": "code",
   "execution_count": 13,
   "metadata": {},
   "outputs": [],
   "source": [
    "def run_monolithic() -> dolfinx.fem.Function:\n",
    "    \"\"\"Run standard FEniCSx formulation using a mixed function space.\"\"\"\n",
    "    # Function spaces\n",
    "    W_element = ufl.MixedElement(V_element, Q_element)\n",
    "    W = dolfinx.fem.FunctionSpace(mesh, W_element)\n",
    "\n",
    "    # Test and trial functions: monolithic\n",
    "    vq = ufl.TestFunction(W)\n",
    "    (v, q) = ufl.split(vq)\n",
    "    dup = ufl.TrialFunction(W)\n",
    "    up = dolfinx.fem.Function(W)\n",
    "    (u, p) = ufl.split(up)\n",
    "\n",
    "    # Variational forms\n",
    "    F = (nu * ufl.inner(ufl.grad(u), ufl.grad(v)) * ufl.dx\n",
    "         + ufl.inner(ufl.grad(u) * u, v) * ufl.dx\n",
    "         - ufl.inner(p, ufl.div(v)) * ufl.dx\n",
    "         + ufl.inner(ufl.div(u), q) * ufl.dx)\n",
    "    J = ufl.derivative(F, up, dup)\n",
    "\n",
    "    # Boundary conditions\n",
    "    u_in = dolfinx.fem.Function(W.sub(0).collapse()[0])\n",
    "    u_in.interpolate(u_in_eval)\n",
    "    u_wall = dolfinx.fem.Function(W.sub(0).collapse()[0])\n",
    "    u_wall.interpolate(u_wall_eval)\n",
    "    bdofs_V_1 = dolfinx.fem.locate_dofs_topological(\n",
    "        (W.sub(0), W.sub(0).collapse()[0]), mesh.topology.dim - 1, boundaries_1)\n",
    "    bdofs_V_2 = dolfinx.fem.locate_dofs_topological(\n",
    "        (W.sub(0), W.sub(0).collapse()[0]), mesh.topology.dim - 1, boundaries_2)\n",
    "    inlet_bc = dolfinx.fem.dirichletbc(u_in, bdofs_V_1, W.sub(0))\n",
    "    wall_bc = dolfinx.fem.dirichletbc(u_wall, bdofs_V_2, W.sub(0))\n",
    "    bc = [inlet_bc, wall_bc]\n",
    "\n",
    "    # Class for interfacing with SNES\n",
    "    class NavierStokesProblem(object):\n",
    "        \"\"\"Define a nonlinear problem, interfacing with SNES.\"\"\"\n",
    "\n",
    "        def __init__(  # type: ignore[no-any-unimported]\n",
    "            self, F: ufl.Form, J: ufl.Form, solution: dolfinx.fem.Function,\n",
    "            bcs: typing.List[dolfinx.fem.DirichletBCMetaClass], P: typing.Optional[ufl.Form] = None\n",
    "        ) -> None:\n",
    "            self._F = dolfinx.fem.form(F)\n",
    "            self._J = dolfinx.fem.form(J)\n",
    "            self._obj_vec = dolfinx.fem.petsc.create_vector(self._F)\n",
    "            self._solution = solution\n",
    "            self._bcs = bcs\n",
    "            self._P = P\n",
    "\n",
    "        def create_snes_solution(self) -> petsc4py.PETSc.Vec:  # type: ignore[no-any-unimported]\n",
    "            \"\"\"\n",
    "            Create a petsc4py.PETSc.Vec to be passed to petsc4py.PETSc.SNES.solve.\n",
    "\n",
    "            The returned vector will be initialized with the initial guess provided in `self._solution`.\n",
    "            \"\"\"\n",
    "            x = self._solution.vector.copy()\n",
    "            with x.localForm() as _x, self._solution.vector.localForm() as _solution:\n",
    "                _x[:] = _solution\n",
    "            return x\n",
    "\n",
    "        def update_solution(self, x: petsc4py.PETSc.Vec) -> None:  # type: ignore[no-any-unimported]\n",
    "            \"\"\"Update `self._solution` with data in `x`.\"\"\"\n",
    "            x.ghostUpdate(addv=petsc4py.PETSc.InsertMode.INSERT, mode=petsc4py.PETSc.ScatterMode.FORWARD)\n",
    "            with x.localForm() as _x, self._solution.vector.localForm() as _solution:\n",
    "                _solution[:] = _x\n",
    "\n",
    "        def obj(  # type: ignore[no-any-unimported]\n",
    "            self, snes: petsc4py.PETSc.SNES, x: petsc4py.PETSc.Vec\n",
    "        ) -> np.float64:\n",
    "            \"\"\"Compute the norm of the residual.\"\"\"\n",
    "            self.F(snes, x, self._obj_vec)\n",
    "            return self._obj_vec.norm()  # type: ignore[no-any-return]\n",
    "\n",
    "        def F(  # type: ignore[no-any-unimported]\n",
    "            self, snes: petsc4py.PETSc.SNES, x: petsc4py.PETSc.Vec, F_vec: petsc4py.PETSc.Vec\n",
    "        ) -> None:\n",
    "            \"\"\"Assemble the residual.\"\"\"\n",
    "            self.update_solution(x)\n",
    "            with F_vec.localForm() as F_vec_local:\n",
    "                F_vec_local.set(0.0)\n",
    "            dolfinx.fem.petsc.assemble_vector(F_vec, self._F)\n",
    "            dolfinx.fem.apply_lifting(F_vec, [self._J], [self._bcs], x0=[x], scale=-1.0)\n",
    "            F_vec.ghostUpdate(addv=petsc4py.PETSc.InsertMode.ADD, mode=petsc4py.PETSc.ScatterMode.REVERSE)\n",
    "            dolfinx.fem.set_bc(F_vec, self._bcs, x, -1.0)\n",
    "\n",
    "        def J(  # type: ignore[no-any-unimported]\n",
    "            self, snes: petsc4py.PETSc.SNES, x: petsc4py.PETSc.Vec, J_mat: petsc4py.PETSc.Mat,\n",
    "            P_mat: petsc4py.PETSc.Mat\n",
    "        ) -> None:\n",
    "            \"\"\"Assemble the jacobian.\"\"\"\n",
    "            J_mat.zeroEntries()\n",
    "            dolfinx.fem.petsc.assemble_matrix(  # type: ignore[misc]\n",
    "                J_mat, self._J, self._bcs, diagonal=1.0)  # type: ignore[arg-type]\n",
    "            J_mat.assemble()\n",
    "            if self._P is not None:\n",
    "                P_mat.zeroEntries()\n",
    "                dolfinx.fem.petsc.assemble_matrix(  # type: ignore[misc]\n",
    "                    P_mat, self._P, self._bcs, diagonal=1.0)  # type: ignore[arg-type]\n",
    "                P_mat.assemble()\n",
    "\n",
    "    # Create problem\n",
    "    problem = NavierStokesProblem(F, J, up, bc)\n",
    "    F_vec = dolfinx.fem.petsc.create_vector(problem._F)\n",
    "    J_mat = dolfinx.fem.petsc.create_matrix(problem._J)\n",
    "\n",
    "    # Solve\n",
    "    snes = petsc4py.PETSc.SNES().create(mesh.comm)\n",
    "    snes.setTolerances(max_it=20)\n",
    "    snes.getKSP().setType(\"preonly\")\n",
    "    snes.getKSP().getPC().setType(\"lu\")\n",
    "    snes.getKSP().getPC().setFactorSolverType(\"mumps\")\n",
    "    snes.setObjective(problem.obj)\n",
    "    snes.setFunction(problem.F, F_vec)\n",
    "    snes.setJacobian(problem.J, J=J_mat, P=None)\n",
    "    snes.setMonitor(lambda _, it, residual: print(it, residual))\n",
    "    up_copy = problem.create_snes_solution()\n",
    "    snes.solve(None, up_copy)\n",
    "    problem.update_solution(up_copy)  # TODO can this be safely removed?\n",
    "    return up"
   ]
  },
  {
   "cell_type": "code",
   "execution_count": 14,
   "metadata": {},
   "outputs": [
    {
     "name": "stdout",
     "output_type": "stream",
     "text": [
      "0 10.913603642874094\n",
      "1 0.036317268123239155\n",
      "2 0.0263988680877077\n",
      "3 0.02348272968515063\n",
      "4 0.01941652106004763\n",
      "5 0.0045167963239366\n",
      "6 0.0004982674112108839\n",
      "7 9.496247615773628e-06\n",
      "8 7.40946126210261e-09\n"
     ]
    }
   ],
   "source": [
    "up_m = run_monolithic()\n",
    "(u_m, p_m) = (up_m.sub(0).collapse(), up_m.sub(1).collapse())\n",
    "\n",
    "\n",
    "from dolfinx.io import XDMFFile\n",
    "u_xdmf = XDMFFile(mesh.comm, \"U.xdmf\", \"w\")\n",
    "u_xdmf.write_mesh(mesh)\n",
    "u_m.name = \"U\"\n",
    "u_xdmf.write_function(u_m)\n",
    "u_xdmf.close()\n",
    "\n",
    "u_xdmf = XDMFFile(mesh.comm, \"p.xdmf\", \"w\")\n",
    "u_xdmf.write_mesh(mesh)\n",
    "p_m.name = \"p\"\n",
    "u_xdmf.write_function(p_m)\n",
    "u_xdmf.close()"
   ]
  }
 ],
 "metadata": {
  "kernelspec": {
   "display_name": "Python 3.10.6 ('mp')",
   "language": "python",
   "name": "python3"
  },
  "language_info": {
   "codemirror_mode": {
    "name": "ipython",
    "version": 3
   },
   "file_extension": ".py",
   "mimetype": "text/x-python",
   "name": "python",
   "nbconvert_exporter": "python",
   "pygments_lexer": "ipython3",
   "version": "3.10.6"
  },
  "vscode": {
   "interpreter": {
    "hash": "e5b3af111de828d84cfea01c8e4cc990d7262e947155f31e208c22ad6b78199b"
   }
  }
 },
 "nbformat": 4,
 "nbformat_minor": 2
}
