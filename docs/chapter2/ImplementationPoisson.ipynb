{
 "cells": [
  {
   "cell_type": "markdown",
   "metadata": {},
   "source": [
    "# Implementation"
   ]
  },
  {
   "cell_type": "code",
   "execution_count": null,
   "metadata": {},
   "outputs": [],
   "source": [
    "import numpy as np\n",
    "import dolfinx\n",
    "import meshio\n",
    "\n",
    "gmshFlag = 1\n",
    "\n",
    "fileName = \"Incrompressible-Schrodinger-Flow/mesh/BFS.msh\"\n",
    "\n",
    "if gmshFlag == 1:\n",
    "  msh = meshio.read(fileName)\n",
    "\n",
    "  def create_mesh(mesh, cell_type, prune_z=False):\n",
    "      cells = mesh.get_cells_type(cell_type)\n",
    "      # cell_data = mesh.get_cell_data(\"gmsh:physical\", cell_type)\n",
    "      points = mesh.points[:,:2] if prune_z else mesh.points\n",
    "      out_mesh = meshio.Mesh(points=points, cells={cell_type: cells})\n",
    "      #, cell_data={\"name_to_read\":[cell_data]})\n",
    "      return out_mesh\n",
    "\n",
    "  triangle_mesh = create_mesh(msh, \"triangle\", prune_z=True)\n",
    "  meshio.write(\"BFS.xdmf\", triangle_mesh)"
   ]
  }
 ],
 "metadata": {
  "kernelspec": {
   "display_name": "Python 3.9.12 64-bit",
   "language": "python",
   "name": "python3"
  },
  "language_info": {
   "name": "python",
   "version": "3.9.12"
  },
  "orig_nbformat": 4,
  "vscode": {
   "interpreter": {
    "hash": "aee8b7b246df8f9039afb4144a1f6fd8d2ca17a180786b69acc140d282b71a49"
   }
  }
 },
 "nbformat": 4,
 "nbformat_minor": 2
}
