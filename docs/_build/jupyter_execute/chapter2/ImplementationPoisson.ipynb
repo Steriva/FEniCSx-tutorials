{
 "cells": [
  {
   "cell_type": "markdown",
   "metadata": {},
   "source": [
    "# Implementation\n",
    "This notebook implements a simple solver for the steady heat equation, an example of Poisson problem.\n",
    "\\begin{equation}\n",
    "\\left\\{\n",
    "    \\begin{array}{ll}\n",
    "        -\\Delta T = f & \\mbox{in }\\Omega\\\\\n",
    "        T=T_D & \\mbox{on }\\Gamma_D\\\\\n",
    "        \\frac{\\partial T}{\\partial \\mathbf{n}}=0 & \\mbox{on }\\Gamma_N\n",
    "    \\end{array}\n",
    "\\right.\n",
    "\\end{equation}\n",
    "\n",
    "The first block is devoted to the creation of the geometry and the functional space.\n",
    "\n",
    "For simplicity, we choose the domain to be a unit square $\\Omega = [0,1]^2$ and we are using linear finite element for the finite dimensional space onto which the solution is sought."
   ]
  },
  {
   "cell_type": "code",
   "execution_count": 1,
   "metadata": {},
   "outputs": [],
   "source": [
    "from mpi4py import MPI\n",
    "from dolfinx import mesh\n",
    "\n",
    "N = 50\n",
    "domain = mesh.create_unit_square(MPI.COMM_WORLD, N, N, mesh.CellType.quadrilateral)\n",
    "\n",
    "from dolfinx.fem import FunctionSpace\n",
    "V = FunctionSpace(domain, (\"CG\", 1))"
   ]
  },
  {
   "cell_type": "markdown",
   "metadata": {},
   "source": [
    "## Defining the boundary conditions\n",
    "On the vertical boundaries ($x=0$ and $x=1$) homogeneous Neumann BCs are imposed, on the top $T=1$ whereas on the bottom $T=0$."
   ]
  },
  {
   "cell_type": "code",
   "execution_count": 2,
   "metadata": {},
   "outputs": [],
   "source": [
    "import numpy as np\n",
    "from petsc4py import PETSc\n",
    "from dolfinx.fem import dirichletbc, locate_dofs_geometrical, Constant\n",
    "\n",
    "def bottom(x):\n",
    "    return np.isclose(x[1], 0.)\n",
    "def top(x):\n",
    "    return np.isclose(x[1], 1.)\n",
    "\n",
    "top_fun = Constant(domain, PETSc.ScalarType(1.))\n",
    "bot_fun = Constant(domain, PETSc.ScalarType(0.))\n",
    "\n",
    "bc_top = dirichletbc(top_fun, locate_dofs_geometrical(V, top), V)\n",
    "bc_bot = dirichletbc(bot_fun, locate_dofs_geometrical(V, bottom), V)\n",
    "bcs = [bc_top, bc_bot]"
   ]
  },
  {
   "cell_type": "markdown",
   "metadata": {},
   "source": [
    "## Defining the source term\n",
    "The source term $f$ is set to be $\\sin\\left(\\pi\\,\\left[x-\\frac{1}{2}\\right]\\cdot y\\right)$"
   ]
  },
  {
   "cell_type": "code",
   "execution_count": 3,
   "metadata": {},
   "outputs": [
    {
     "data": {
      "image/png": "[encoded data removed]",
      "text/plain": [
       "<Figure size 640x480 with 2 Axes>"
      ]
     },
     "metadata": {
      "filenames": {
       "image/png": "/Users/stefanoriva/Github/FEniCSx-tutorials/docs/_build/jupyter_execute/chapter2/ImplementationPoisson_5_0.png"
      }
     },
     "output_type": "display_data"
    }
   ],
   "source": [
    "from dolfinx.fem import Function\n",
    "import matplotlib.pyplot as plt\n",
    "from matplotlib import rcParams\n",
    "from matplotlib import cm\n",
    "\n",
    "plt.rcParams.update({\n",
    "  \"text.usetex\": True,\n",
    "  \"font.family\": \"serif\"\n",
    "})\n",
    "\n",
    "rcParams['text.latex.preamble'] = r'\\usepackage{amssymb} \\usepackage{amsmath} \\usepackage{amsthm} \\usepackage{mathtools}'\n",
    "\n",
    "x = np.linspace(0,1,100)\n",
    "y = np.linspace(0,1,100)\n",
    "\n",
    "X, Y = np.meshgrid(x,y)\n",
    "fun = lambda x, y: np.sin(np.pi * (x-0.5) * y)\n",
    "plt.contourf(X,Y, fun(X,Y), levels = 40, cmap=cm.jet)\n",
    "plt.xlabel(r'$x$', fontsize = 20)\n",
    "plt.ylabel(r'$y$', fontsize = 20)\n",
    "plt.title(r'$f$', fontsize = 20)\n",
    "plt.colorbar()\n",
    "\n",
    "\n",
    "f = Function(V)\n",
    "f.interpolate(lambda x: np.sin(np.pi * (x[0]-0.5) * x[1]))"
   ]
  },
  {
   "cell_type": "markdown",
   "metadata": {},
   "source": [
    "## Defining the variational problem\n",
    "As reported before, the Poisson problem should be written in weak form to assemble the matrix of the linear system."
   ]
  },
  {
   "cell_type": "code",
   "execution_count": 4,
   "metadata": {},
   "outputs": [],
   "source": [
    "from dolfinx.fem import form\n",
    "from  dolfinx import fem\n",
    "from ufl import dot, grad, dx, TrialFunction, TestFunction\n",
    "\n",
    "T = TrialFunction(V)\n",
    "v = TestFunction(V)\n",
    "\n",
    "a = form(dot(grad(T), grad(v)) * dx)\n",
    "L = form(f * v * dx)\n",
    "\n",
    "A = fem.petsc.assemble_matrix(a, bcs = bcs)\n",
    "A.assemble()\n",
    "b = fem.petsc.assemble_vector(L)\n",
    "\n",
    "# Apply Dirichlet boundary condition to the vector\n",
    "fem.petsc.apply_lifting(b, [a], [bcs])\n",
    "b.ghostUpdate(addv=PETSc.InsertMode.ADD_VALUES, mode=PETSc.ScatterMode.REVERSE)\n",
    "fem.petsc.set_bc(b, bcs)"
   ]
  },
  {
   "cell_type": "markdown",
   "metadata": {},
   "source": [
    "## Defining the solver\n",
    "This simply problem can be solved using both a direct solver (LU factotisation) and an iterative solver (CG is used, since the matrix is symmetric)."
   ]
  },
  {
   "cell_type": "code",
   "execution_count": 5,
   "metadata": {},
   "outputs": [],
   "source": [
    "lu_solver = PETSc.KSP().create(domain.comm)\n",
    "lu_solver.setOperators(A)\n",
    "lu_solver.setType(PETSc.KSP.Type.PREONLY)\n",
    "lu_solver.getPC().setType(PETSc.PC.Type.LU)\n",
    "\n",
    "cg_solver = PETSc.KSP().create(domain.comm)\n",
    "cg_solver.setOperators(A)\n",
    "cg_solver.setType(PETSc.KSP.Type.CG)\n",
    "cg_solver.getPC().setType(PETSc.PC.Type.SOR)"
   ]
  },
  {
   "cell_type": "markdown",
   "metadata": {},
   "source": [
    "## Solving the problem\n",
    "The solution is computed using the two different approaches"
   ]
  },
  {
   "cell_type": "code",
   "execution_count": 6,
   "metadata": {},
   "outputs": [],
   "source": [
    "T_lu = Function(V)\n",
    "T_cg = Function(V)\n",
    "\n",
    "# Direct solver\n",
    "lu_solver.solve(b, T_lu.vector)\n",
    "T_lu.x.scatter_forward()\n",
    "\n",
    "# Iterative solver\n",
    "cg_solver.solve(b, T_cg.vector)\n",
    "T_cg.x.scatter_forward()"
   ]
  },
  {
   "cell_type": "markdown",
   "metadata": {},
   "source": [
    "## Plotting the solution using matplotlib\n",
    "The solutions are extracted from the `fem` environment to numpy arrays."
   ]
  },
  {
   "cell_type": "code",
   "execution_count": 7,
   "metadata": {},
   "outputs": [],
   "source": [
    "import dolfinx \n",
    "from scipy.interpolate import NearestNDInterpolator\n",
    "\n",
    "x_grid = np.linspace(0., 1., N)\n",
    "y_grid = np.linspace(0., 1., N)\n",
    "\n",
    "T_lu_list = []\n",
    "T_cg_list = []\n",
    "grid_list = [] \n",
    "\n",
    "for ii in range(N):\n",
    "    points = np.zeros((3, N))\n",
    "    points[0, :] = x_grid[ii]\n",
    "    points[1, :] = y_grid\n",
    "\n",
    "    bb_tree = dolfinx.geometry.BoundingBoxTree(domain, domain.topology.dim)\n",
    "    cells = []\n",
    "    points_on_proc = []\n",
    "    cell_candidates = dolfinx.geometry.compute_collisions(bb_tree, points.T)\n",
    "    colliding_cells = dolfinx.geometry.compute_colliding_cells(domain, cell_candidates, points.T)\n",
    "    for i, point in enumerate(points.T):\n",
    "        if len(colliding_cells.links(i))>0:\n",
    "            points_on_proc.append(point)\n",
    "            cells.append(colliding_cells.links(i)[0])\n",
    "    xPlot = np.array(points_on_proc, dtype=np.float64)\n",
    "\n",
    "    T_lu_list.append(T_lu.eval(xPlot, cells).flatten())\n",
    "    T_cg_list.append(T_cg.eval(xPlot, cells).flatten())\n",
    "    grid_list.append(xPlot[:,:2])\n",
    "\n",
    "T_lu_grid = np.zeros((N * N,  ))\n",
    "T_cg_grid = np.zeros((N * N,  ))\n",
    "xy_grid   = np.zeros((N * N, 2))\n",
    "\n",
    "idx = 0\n",
    "\n",
    "for ii in range(N):\n",
    "    for jj in range(N):\n",
    "        T_lu_grid[idx]  = T_lu_list[ii][jj]\n",
    "        T_cg_grid[idx]  = T_cg_list[ii][jj]\n",
    "        xy_grid[idx, 0] = grid_list[ii][jj, 0]\n",
    "        xy_grid[idx, 1] = grid_list[ii][jj, 1]\n",
    "        idx += 1\n",
    "\n",
    "T_lu_fun = NearestNDInterpolator(xy_grid, T_lu_grid)\n",
    "T_cg_fun = NearestNDInterpolator(xy_grid, T_cg_grid)"
   ]
  },
  {
   "cell_type": "markdown",
   "metadata": {},
   "source": [
    "All the necessary libraries are imported along with the settings to have latex-style labels."
   ]
  },
  {
   "cell_type": "code",
   "execution_count": 11,
   "metadata": {},
   "outputs": [
    {
     "data": {
      "image/png": "[encoded data removed]",
      "text/plain": [
       "<Figure size 1000x400 with 4 Axes>"
      ]
     },
     "metadata": {
      "filenames": {
       "image/png": "/Users/stefanoriva/Github/FEniCSx-tutorials/docs/_build/jupyter_execute/chapter2/ImplementationPoisson_15_0.png"
      }
     },
     "output_type": "display_data"
    }
   ],
   "source": [
    "X, Y = np.meshgrid(x_grid, y_grid)\n",
    "\n",
    "fig = plt.figure( figsize = (10,4) )\n",
    "\n",
    "plt.subplot(1,2,1)\n",
    "plt.contourf(X, Y, T_lu_fun(X,Y), cmap=cm.jet, levels = 40)\n",
    "plt.colorbar()\n",
    "plt.xlabel(r'$x$', fontsize = 20)\n",
    "plt.ylabel(r'$y$', fontsize = 20)\n",
    "plt.title(r'$T_{LU}$', fontsize = 20)\n",
    "\n",
    "plt.subplot(1,2,2)\n",
    "plt.contourf(X, Y, T_cg_fun(X,Y), cmap=cm.jet, levels = 40)\n",
    "plt.colorbar()\n",
    "plt.xlabel(r'$x$', fontsize = 20)\n",
    "plt.title(r'$T_{CG}$', fontsize = 20)\n",
    "\n",
    "fig.savefig('T_Poisson.pdf', format='pdf', dpi=600, bbox_inches='tight')"
   ]
  }
 ],
 "metadata": {
  "kernelspec": {
   "display_name": "Python 3.9.12 64-bit",
   "language": "python",
   "name": "python3"
  },
  "language_info": {
   "codemirror_mode": {
    "name": "ipython",
    "version": 3
   },
   "file_extension": ".py",
   "mimetype": "text/x-python",
   "name": "python",
   "nbconvert_exporter": "python",
   "pygments_lexer": "ipython3",
   "version": "3.9.12"
  },
  "vscode": {
   "interpreter": {
    "hash": "aee8b7b246df8f9039afb4144a1f6fd8d2ca17a180786b69acc140d282b71a49"
   }
  }
 },
 "nbformat": 4,
 "nbformat_minor": 2
}